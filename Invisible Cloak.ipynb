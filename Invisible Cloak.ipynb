{
 "cells": [
  {
   "cell_type": "code",
   "execution_count": 1,
   "metadata": {},
   "outputs": [],
   "source": [
    "import cv2\n",
    "import numpy as np\n",
    "import time\n"
   ]
  },
  {
   "cell_type": "code",
   "execution_count": 2,
   "metadata": {},
   "outputs": [],
   "source": [
    "cap = cv2.VideoCapture(0)\n",
    "time.sleep(2)\n",
    "background = 0"
   ]
  },
  {
   "cell_type": "code",
   "execution_count": null,
   "metadata": {},
   "outputs": [],
   "source": [
    "#captured the background here\n",
    "for i in range(30):\n",
    "    ret, background = cap.read()\n",
    "\n",
    "\n",
    "while (cap.isOpened()):\n",
    "    ret, img = cap.read()\n",
    "    \n",
    "    if not ret:\n",
    "        break\n",
    "        \n",
    "    hsv = cv2.cvtColor(img, cv2.COLOR_BGR2HSV)\n",
    "    \n",
    "    lower_red = np.array([0,120,70])#HSV values\n",
    "    upper_red = np.array([10,255,255])#HSV values\n",
    "    mask1 = cv2.inRange(hsv, lower_red, upper_red) #seperating the cloak part\n",
    "\n",
    "    lower_red = np.array([170,120,70])#HSV values\n",
    "    upper_red = np.array([180,255,255])#HSV values\n",
    "    mask2 = cv2.inRange(hsv, lower_red, upper_red) #seperating the cloak part\n",
    "    \n",
    "    mask1 = mask1 + mask2\n",
    "    \n",
    "    mask1 = cv2.morphologyEx(mask1, cv2.MORPH_OPEN, np.ones((3,3), np.uint8), iterations = 2 ) #Noice Removal\n",
    "    mask1 = cv2.morphologyEx(mask1, cv2.MORPH_DILATE, np.ones((3,3), np.uint8), iterations = 1) #Noice Removal\n",
    "    \n",
    "    mask2 = cv2.bitwise_not(mask1)#everything except the cloak\n",
    "    \n",
    "    res1 = cv2.bitwise_and(background, background , mask = mask1) #Used for the segmentaion of the colors\n",
    "    res2 = cv2.bitwise_and(img , img , mask = mask2)#used to substitute the cloak part\n",
    "    final_output = cv2.addWeighted(res1, 1, res2, 1,0)\n",
    "    cv2.imshow(\"Eurekaa  !!!\", final_output)\n",
    "    k = cv2.waitKey(10)\n",
    "    if k == 27:\n",
    "        break\n",
    "cap.ralease()\n",
    "cv2.destroyAllWindows()    "
   ]
  },
  {
   "cell_type": "code",
   "execution_count": null,
   "metadata": {},
   "outputs": [],
   "source": []
  },
  {
   "cell_type": "code",
   "execution_count": null,
   "metadata": {},
   "outputs": [],
   "source": []
  }
 ],
 "metadata": {
  "kernelspec": {
   "display_name": "Python 3",
   "language": "python",
   "name": "python3"
  },
  "language_info": {
   "codemirror_mode": {
    "name": "ipython",
    "version": 3
   },
   "file_extension": ".py",
   "mimetype": "text/x-python",
   "name": "python",
   "nbconvert_exporter": "python",
   "pygments_lexer": "ipython3",
   "version": "3.7.6"
  }
 },
 "nbformat": 4,
 "nbformat_minor": 4
}
